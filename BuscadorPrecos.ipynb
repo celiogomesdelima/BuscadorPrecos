{
 "cells": [
  {
   "cell_type": "code",
   "execution_count": 66,
   "id": "d4f3ea9c",
   "metadata": {},
   "outputs": [],
   "source": [
    "#Criação de um navegador e demais importações\n",
    "from selenium import webdriver\n",
    "from selenium.webdriver.common.keys import Keys\n",
    "import pandas as pd\n",
    "import time\n",
    "\n",
    "\n",
    "nav = webdriver.Chrome()"
   ]
  },
  {
   "cell_type": "code",
   "execution_count": 8,
   "id": "115898d6",
   "metadata": {},
   "outputs": [
    {
     "data": {
      "text/html": [
       "<div>\n",
       "<style scoped>\n",
       "    .dataframe tbody tr th:only-of-type {\n",
       "        vertical-align: middle;\n",
       "    }\n",
       "\n",
       "    .dataframe tbody tr th {\n",
       "        vertical-align: top;\n",
       "    }\n",
       "\n",
       "    .dataframe thead th {\n",
       "        text-align: right;\n",
       "    }\n",
       "</style>\n",
       "<table border=\"1\" class=\"dataframe\">\n",
       "  <thead>\n",
       "    <tr style=\"text-align: right;\">\n",
       "      <th></th>\n",
       "      <th>Nome</th>\n",
       "      <th>Termos banidos</th>\n",
       "      <th>Preço mínimo</th>\n",
       "      <th>Preço máximo</th>\n",
       "    </tr>\n",
       "  </thead>\n",
       "  <tbody>\n",
       "    <tr>\n",
       "      <th>0</th>\n",
       "      <td>iphone 12 64gb</td>\n",
       "      <td>mini watch</td>\n",
       "      <td>3000</td>\n",
       "      <td>3500</td>\n",
       "    </tr>\n",
       "    <tr>\n",
       "      <th>1</th>\n",
       "      <td>rtx 3060</td>\n",
       "      <td>zota galax</td>\n",
       "      <td>4000</td>\n",
       "      <td>4500</td>\n",
       "    </tr>\n",
       "  </tbody>\n",
       "</table>\n",
       "</div>"
      ],
      "text/plain": [
       "             Nome Termos banidos  Preço mínimo  Preço máximo\n",
       "0  iphone 12 64gb     mini watch          3000          3500\n",
       "1        rtx 3060     zota galax          4000          4500"
      ]
     },
     "metadata": {},
     "output_type": "display_data"
    }
   ],
   "source": [
    "#Importação e visualização da base de dados\n",
    "tabela_produtos = pd.read_excel(\"buscas.xlsx\")\n",
    "display(tabela_produtos)"
   ]
  },
  {
   "cell_type": "code",
   "execution_count": 109,
   "id": "59257379",
   "metadata": {},
   "outputs": [
    {
     "ename": "ValueError",
     "evalue": "could not convert string to float: 'R$ 2.621,99'",
     "output_type": "error",
     "traceback": [
      "\u001b[1;31m---------------------------------------------------------------------------\u001b[0m",
      "\u001b[1;31mValueError\u001b[0m                                Traceback (most recent call last)",
      "Cell \u001b[1;32mIn[109], line 27\u001b[0m\n\u001b[0;32m     25\u001b[0m elemento_pai \u001b[38;5;241m=\u001b[39m referencia_link\u001b[38;5;241m.\u001b[39mfind_element(\u001b[38;5;124m'\u001b[39m\u001b[38;5;124mxpath\u001b[39m\u001b[38;5;124m'\u001b[39m,\u001b[38;5;124m'\u001b[39m\u001b[38;5;124m..\u001b[39m\u001b[38;5;124m'\u001b[39m)\n\u001b[0;32m     26\u001b[0m link \u001b[38;5;241m=\u001b[39m elemento_pai\u001b[38;5;241m.\u001b[39mget_attribute(\u001b[38;5;124m'\u001b[39m\u001b[38;5;124mhref\u001b[39m\u001b[38;5;124m'\u001b[39m)\n\u001b[1;32m---> 27\u001b[0m \u001b[38;5;28mprint\u001b[39m(nome, \u001b[38;5;28mfloat\u001b[39m(preco), link)\n",
      "\u001b[1;31mValueError\u001b[0m: could not convert string to float: 'R$ 2.621,99'"
     ]
    }
   ],
   "source": [
    "#Para cada item de produto dentro da base de dados\n",
    "\n",
    "#Procurar produto no Google Shopping\n",
    "#Entrar no Google\n",
    "nav.get(\"https://www.google.com/\")\n",
    "\n",
    "#Pesquisar pelo produto\n",
    "produto = tabela_produtos.iloc[0,0]\n",
    "nav.find_element('xpath', '//*[@id=\"APjFqb\"]').send_keys(produto, Keys.ENTER)\n",
    "\n",
    "#Entrar na aba shopping\n",
    "time.sleep(2)\n",
    "abas = nav.find_elements('class name', 'Tl6lnd')\n",
    "for item in abas:\n",
    "    if \"Shopping\" in item.text:\n",
    "        item.click()\n",
    "        break\n",
    "        \n",
    "#Pegar informações sobre o produto\n",
    "lista_resultados = nav.find_elements('class name', 'i0X6df')\n",
    "for resultado in lista_resultados:\n",
    "    preco = resultado.find_element('class name', 'a8Pemb').text\n",
    "    nome = resultado.find_element('class name', 'tAxDx').text\n",
    "    referencia_link = resultado.find_element('class name', 'bONr3b')\n",
    "    elemento_pai = referencia_link.find_element('xpath','..')\n",
    "    link = elemento_pai.get_attribute('href')\n",
    "    print(nome, preco, link)\n",
    "#Verificar se algum dos produtos está dentro da faixa de preços\n",
    "        \n",
    "    #Procurar produto no Buscape\n",
    "        #Verificar se algum dos produtos está dentro da faixa de preços\n",
    "\n",
    "#Salvar as ofertas filtradas em um dataframe\n",
    "\n",
    "#Exportar para o Excel\n",
    "\n",
    "#Enviar por e-mail o resultado da tabela"
   ]
  }
 ],
 "metadata": {
  "kernelspec": {
   "display_name": "Python 3 (ipykernel)",
   "language": "python",
   "name": "python3"
  },
  "language_info": {
   "codemirror_mode": {
    "name": "ipython",
    "version": 3
   },
   "file_extension": ".py",
   "mimetype": "text/x-python",
   "name": "python",
   "nbconvert_exporter": "python",
   "pygments_lexer": "ipython3",
   "version": "3.11.5"
  }
 },
 "nbformat": 4,
 "nbformat_minor": 5
}
